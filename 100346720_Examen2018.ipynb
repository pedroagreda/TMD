{
  "nbformat": 4,
  "nbformat_minor": 0,
  "metadata": {
    "colab": {
      "name": "100346720_Examen.ipynb",
      "provenance": [],
      "include_colab_link": true
    },
    "kernelspec": {
      "name": "python3",
      "display_name": "Python 3"
    }
  },
  "cells": [
    {
      "cell_type": "markdown",
      "metadata": {
        "id": "view-in-github",
        "colab_type": "text"
      },
      "source": [
        "<a href=\"https://colab.research.google.com/github/pedroagreda/TMD/blob/master/100346720_Examen2018.ipynb\" target=\"_parent\"><img src=\"https://colab.research.google.com/assets/colab-badge.svg\" alt=\"Open In Colab\"/></a>"
      ]
    },
    {
      "cell_type": "code",
      "metadata": {
        "id": "08fIJYLfVa52",
        "colab_type": "code",
        "colab": {}
      },
      "source": [
        "import numpy as np\n",
        "import matplotlib.pyplot as plt\n",
        "from IPython.display import display, Math, Latex, HTML\n",
        "data=np.load('100346720.npz')\n",
        "x=data['xD']\n",
        "h=data['hD'] \n",
        "xR=data['xR']"
      ],
      "execution_count": 0,
      "outputs": []
    },
    {
      "cell_type": "markdown",
      "metadata": {
        "id": "xstcLxWLYuqL",
        "colab_type": "text"
      },
      "source": [
        "Ejercicio Decisión"
      ]
    },
    {
      "cell_type": "markdown",
      "metadata": {
        "id": "-LlkDhDkYx57",
        "colab_type": "text"
      },
      "source": [
        " 1)\n",
        " "
      ]
    },
    {
      "cell_type": "code",
      "metadata": {
        "id": "93YXM46XXDAl",
        "colab_type": "code",
        "colab": {}
      },
      "source": [
        "x_0=x[h==0]\n",
        "x_1=x[h==1]\n",
        "\n",
        "PH0 = np.sum(x[h==0])/len(x_0)\n",
        "PH1 = np.sum(x[h==1])/len(x_1)\n",
        "\n"
      ],
      "execution_count": 0,
      "outputs": []
    },
    {
      "cell_type": "markdown",
      "metadata": {
        "id": "DE1SF46nY1rb",
        "colab_type": "text"
      },
      "source": [
        "2)"
      ]
    },
    {
      "cell_type": "code",
      "metadata": {
        "id": "dvy6WUW6Y2cT",
        "colab_type": "code",
        "outputId": "113677d8-42af-41a0-abe8-83cf3bfd6268",
        "colab": {
          "base_uri": "https://localhost:8080/",
          "height": 51
        }
      },
      "source": [
        "Ahat=min(x)\n",
        "Bhat=max(x)\n",
        "\n",
        "print(Ahat) \n",
        "print(Bhat)\n",
        "\n"
      ],
      "execution_count": 0,
      "outputs": [
        {
          "output_type": "stream",
          "text": [
            "2.200029681612885\n",
            "5.389396110225863\n"
          ],
          "name": "stdout"
        }
      ]
    },
    {
      "cell_type": "markdown",
      "metadata": {
        "id": "uzVsyTYmjA0-",
        "colab_type": "text"
      },
      "source": [
        "3)"
      ]
    },
    {
      "cell_type": "code",
      "metadata": {
        "id": "luqPW8u0jBt_",
        "colab_type": "code",
        "outputId": "6c55ae55-ccf6-4e04-cfbe-70ca259f3fca",
        "colab": {
          "base_uri": "https://localhost:8080/",
          "height": 231
        }
      },
      "source": [
        "p_x_h0=1/(Bhat-Ahat)\n",
        "\n",
        "\n",
        "CM0=-1*p_x_h0+3*\n"
      ],
      "execution_count": 0,
      "outputs": [
        {
          "output_type": "error",
          "ename": "TypeError",
          "evalue": "ignored",
          "traceback": [
            "\u001b[0;31m---------------------------------------------------------------------------\u001b[0m",
            "\u001b[0;31mTypeError\u001b[0m                                 Traceback (most recent call last)",
            "\u001b[0;32m<ipython-input-37-93f1f59ee1c4>\u001b[0m in \u001b[0;36m<module>\u001b[0;34m()\u001b[0m\n\u001b[1;32m      1\u001b[0m \u001b[0mp_x_h0\u001b[0m\u001b[0;34m=\u001b[0m\u001b[0;36m1\u001b[0m\u001b[0;34m/\u001b[0m\u001b[0;34m(\u001b[0m\u001b[0mBhat\u001b[0m\u001b[0;34m-\u001b[0m\u001b[0mAhat\u001b[0m\u001b[0;34m)\u001b[0m\u001b[0;34m\u001b[0m\u001b[0;34m\u001b[0m\u001b[0m\n\u001b[0;32m----> 2\u001b[0;31m \u001b[0mp_x_h1\u001b[0m\u001b[0;34m=\u001b[0m\u001b[0;34m(\u001b[0m\u001b[0;36m2\u001b[0m\u001b[0;34m(\u001b[0m\u001b[0mx\u001b[0m\u001b[0;34m-\u001b[0m\u001b[0mAhat\u001b[0m\u001b[0;34m)\u001b[0m\u001b[0;34m)\u001b[0m\u001b[0;34m/\u001b[0m\u001b[0;34m(\u001b[0m\u001b[0mBhat\u001b[0m\u001b[0;34m-\u001b[0m\u001b[0mAhat\u001b[0m\u001b[0;34m)\u001b[0m\u001b[0;34m**\u001b[0m\u001b[0;36m2\u001b[0m\u001b[0;34m\u001b[0m\u001b[0;34m\u001b[0m\u001b[0m\n\u001b[0m\u001b[1;32m      3\u001b[0m \u001b[0;34m\u001b[0m\u001b[0m\n\u001b[1;32m      4\u001b[0m \u001b[0mCM0\u001b[0m\u001b[0;34m=\u001b[0m\u001b[0;34m-\u001b[0m\u001b[0;36m1\u001b[0m\u001b[0;34m*\u001b[0m\u001b[0mp_x_h0\u001b[0m\u001b[0;34m\u001b[0m\u001b[0;34m\u001b[0m\u001b[0m\n\u001b[1;32m      5\u001b[0m \u001b[0;34m\u001b[0m\u001b[0m\n",
            "\u001b[0;31mTypeError\u001b[0m: 'int' object is not callable"
          ]
        }
      ]
    },
    {
      "cell_type": "markdown",
      "metadata": {
        "id": "P8d8O4NxZTqo",
        "colab_type": "text"
      },
      "source": [
        "Ejercico Estimación"
      ]
    },
    {
      "cell_type": "markdown",
      "metadata": {
        "id": "iHgbaX_qZ5pb",
        "colab_type": "text"
      },
      "source": [
        "5)"
      ]
    },
    {
      "cell_type": "code",
      "metadata": {
        "id": "wWfJm9kTZVw4",
        "colab_type": "code",
        "outputId": "aa296e4e-f978-455c-8dfc-9289e6457361",
        "colab": {
          "base_uri": "https://localhost:8080/",
          "height": 34
        }
      },
      "source": [
        "z= np.sum(xR)\n",
        "K=len(xR)\n",
        "\n",
        "sMAP = K/(z+1)\n",
        "print(sMAP)"
      ],
      "execution_count": 0,
      "outputs": [
        {
          "output_type": "stream",
          "text": [
            "1.0220894799800206\n"
          ],
          "name": "stdout"
        }
      ]
    },
    {
      "cell_type": "markdown",
      "metadata": {
        "id": "FkbR498AZ7Dy",
        "colab_type": "text"
      },
      "source": [
        "6)"
      ]
    },
    {
      "cell_type": "code",
      "metadata": {
        "id": "FdB1LcAFZ78j",
        "colab_type": "code",
        "outputId": "7d566d73-cb7d-4949-a800-1fa0af612d6d",
        "colab": {
          "base_uri": "https://localhost:8080/",
          "height": 442
        }
      },
      "source": [
        "s=np.linspace(1, 70, 100)\n",
        "\n",
        "Lxs=K*np.log(s)- s*z\n",
        "\n",
        "p_sMAP_xlg = K*np.log(sMAP) + (K+1)*np.log(z+1) - sMAP*(z+1) - sum(np.log(range(1, K+1)))\n",
        "p_s = np.exp(-s)\n",
        "\n",
        "print(Lxs)\n"
      ],
      "execution_count": 0,
      "outputs": [
        {
          "output_type": "stream",
          "text": [
            "[ -104.66589532  -120.4996867   -156.28625858  -201.63852016\n",
            "  -252.62665771  -307.33457312  -364.68279193  -424.00273219\n",
            "  -484.85145653  -546.92032434  -609.98564993  -673.88012718\n",
            "  -738.47534219  -803.6705808   -869.38539352  -935.554499\n",
            " -1002.12419533 -1069.04977365 -1136.29361595 -1203.82377048\n",
            " -1271.61286806 -1339.63728553 -1407.87649189 -1476.3125311\n",
            " -1544.92960873 -1613.71375833 -1682.65256977 -1751.73496631\n",
            " -1820.95102014 -1890.29179877 -1959.74923631 -2029.31602482\n",
            " -2098.98552228 -2168.75167402 -2238.60894545 -2308.55226417\n",
            " -2378.57696989 -2448.67877095 -2518.85370645 -2589.0981131\n",
            " -2659.40859615 -2729.78200376 -2800.21540434 -2870.70606654\n",
            " -2941.25144137 -3011.84914637 -3082.49695135 -3153.19276575\n",
            " -3223.93462718 -3294.72069117 -3365.54922189 -3436.41858379\n",
            " -3507.32723405 -3578.27371565 -3649.25665116 -3720.27473702\n",
            " -3791.32673838 -3862.41148433 -3933.52786359 -4004.67482048\n",
            " -4075.85135131 -4147.05650103 -4218.28936009 -4289.54906165\n",
            " -4360.83477889 -4432.14572264 -4503.48113909 -4574.84030773\n",
            " -4646.2225394  -4717.6271745  -4789.05358134 -4860.50115458\n",
            " -4931.96931377 -5003.457502   -5074.96518469 -5146.49184837\n",
            " -5218.03699957 -5289.60016384 -5361.18088476 -5432.77872304\n",
            " -5504.39325568 -5576.02407514 -5647.67078866 -5719.3330175\n",
            " -5791.01039629 -5862.70257244 -5934.40920551 -6006.12996668\n",
            " -6077.86453822 -6149.61261299 -6221.37389401 -6293.14809397\n",
            " -6364.93493484 -6436.73414747 -6508.54547121 -6580.36865358\n",
            " -6652.20344989 -6724.04962295 -6795.90694279 -6867.77518631]\n"
          ],
          "name": "stdout"
        }
      ]
    },
    {
      "cell_type": "markdown",
      "metadata": {
        "id": "YjRSpjpudXqx",
        "colab_type": "text"
      },
      "source": [
        "7)"
      ]
    },
    {
      "cell_type": "code",
      "metadata": {
        "id": "n8q0wSCidcDx",
        "colab_type": "code",
        "colab": {}
      },
      "source": [
        "\n"
      ],
      "execution_count": 0,
      "outputs": []
    },
    {
      "cell_type": "code",
      "metadata": {
        "id": "F2nv73nTg7W7",
        "colab_type": "code",
        "colab": {}
      },
      "source": [
        "np.savez('results.npz',PH0=PH0,PH1=PH1,Ahat=Ahat,Bhat=Bhat,sMAP=sMAP,Lxs=Lxs)"
      ],
      "execution_count": 0,
      "outputs": []
    }
  ]
}