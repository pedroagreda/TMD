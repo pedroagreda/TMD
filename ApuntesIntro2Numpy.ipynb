{
  "nbformat": 4,
  "nbformat_minor": 0,
  "metadata": {
    "colab": {
      "name": "ApuntesIntro2Numpy.ipynb",
      "provenance": [],
      "include_colab_link": true
    },
    "kernelspec": {
      "name": "python3",
      "display_name": "Python 3"
    }
  },
  "cells": [
    {
      "cell_type": "markdown",
      "metadata": {
        "id": "view-in-github",
        "colab_type": "text"
      },
      "source": [
        "<a href=\"https://colab.research.google.com/github/pedroagreda/TMD/blob/master/ApuntesIntro2Numpy.ipynb\" target=\"_parent\"><img src=\"https://colab.research.google.com/assets/colab-badge.svg\" alt=\"Open In Colab\"/></a>"
      ]
    },
    {
      "cell_type": "code",
      "metadata": {
        "id": "MulZlH1bK2x2",
        "colab_type": "code",
        "colab": {}
      },
      "source": [
        "import numpy as np\n",
        "#numpy -> arrays multidimensionales y matrices"
      ],
      "execution_count": 0,
      "outputs": []
    },
    {
      "cell_type": "code",
      "metadata": {
        "id": "fuySaHmqPdka",
        "colab_type": "code",
        "colab": {
          "base_uri": "https://localhost:8080/",
          "height": 34
        },
        "outputId": "703df6c3-ea5e-450e-edd0-f5c93820cdae"
      },
      "source": [
        "x=[5, 4, 3, 4]\n",
        "print(type(x[0]))"
      ],
      "execution_count": 2,
      "outputs": [
        {
          "output_type": "stream",
          "text": [
            "<class 'int'>\n"
          ],
          "name": "stdout"
        }
      ]
    },
    {
      "cell_type": "code",
      "metadata": {
        "id": "_6ZCPIa_Pj2M",
        "colab_type": "code",
        "colab": {}
      },
      "source": [
        "#Enunciado: Crea una lista de tipo float con los mismos elementos que x\n",
        "#x_f = []\n",
        "#for element in x:\n",
        "  #<FILL IN>\n",
        "  \n",
        "#print(x_f)\n",
        "#print(type(x_f[0]))\n",
        "\n",
        "\n"
      ],
      "execution_count": 0,
      "outputs": []
    },
    {
      "cell_type": "code",
      "metadata": {
        "id": "z2braf-NRRhY",
        "colab_type": "code",
        "colab": {
          "base_uri": "https://localhost:8080/",
          "height": 51
        },
        "outputId": "0b729844-bb71-42f8-b1eb-bbd847e89118"
      },
      "source": [
        "#Solución\n",
        "x_f = []\n",
        "for element in x:\n",
        "  #<FILL IN> Añadir elementos a una lista -> .append de tipo float siendo element cada posicion recorrida en el for en la lista x\n",
        "  x_f.append(float(element))\n",
        "  \n",
        "print(x_f)\n",
        "print(type(x_f[0]))"
      ],
      "execution_count": 3,
      "outputs": [
        {
          "output_type": "stream",
          "text": [
            "[5.0, 4.0, 3.0, 4.0]\n",
            "<class 'float'>\n"
          ],
          "name": "stdout"
        }
      ]
    }
  ]
}