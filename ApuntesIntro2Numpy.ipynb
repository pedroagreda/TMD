{
  "nbformat": 4,
  "nbformat_minor": 0,
  "metadata": {
    "colab": {
      "name": "ApuntesIntro2Numpy.ipynb",
      "provenance": [],
      "include_colab_link": true
    },
    "kernelspec": {
      "name": "python3",
      "display_name": "Python 3"
    }
  },
  "cells": [
    {
      "cell_type": "markdown",
      "metadata": {
        "id": "view-in-github",
        "colab_type": "text"
      },
      "source": [
        "<a href=\"https://colab.research.google.com/github/pedroagreda/TMD/blob/master/ApuntesIntro2Numpy.ipynb\" target=\"_parent\"><img src=\"https://colab.research.google.com/assets/colab-badge.svg\" alt=\"Open In Colab\"/></a>"
      ]
    },
    {
      "cell_type": "code",
      "metadata": {
        "id": "MulZlH1bK2x2",
        "colab_type": "code",
        "colab": {}
      },
      "source": [
        "import numpy as np\n",
        "#numpy -> arrays multidimensionales y matrices"
      ],
      "execution_count": 0,
      "outputs": []
    },
    {
      "cell_type": "markdown",
      "metadata": {
        "id": "bpjGcnEghCdG",
        "colab_type": "text"
      },
      "source": [
        "# 2. Numpy exercises\n",
        "\n",
        "2.1. Create numpy arrays"
      ]
    },
    {
      "cell_type": "code",
      "metadata": {
        "id": "fuySaHmqPdka",
        "colab_type": "code",
        "outputId": "5cc42780-3ec8-4d2e-9879-79cc540d624a",
        "colab": {
          "base_uri": "https://localhost:8080/",
          "height": 34
        }
      },
      "source": [
        "x=[5, 4, 3, 4]\n",
        "print(type(x[0]))"
      ],
      "execution_count": 3,
      "outputs": [
        {
          "output_type": "stream",
          "text": [
            "<class 'int'>\n"
          ],
          "name": "stdout"
        }
      ]
    },
    {
      "cell_type": "code",
      "metadata": {
        "id": "_6ZCPIa_Pj2M",
        "colab_type": "code",
        "colab": {}
      },
      "source": [
        "#Enunciado: Crea una lista de tipo float con los mismos elementos que x\n",
        "#x_f = []\n",
        "#for element in x:\n",
        "  #<FILL IN>\n",
        "  \n",
        "#print(x_f)\n",
        "#print(type(x_f[0]))\n",
        "\n",
        "\n"
      ],
      "execution_count": 0,
      "outputs": []
    },
    {
      "cell_type": "code",
      "metadata": {
        "id": "z2braf-NRRhY",
        "colab_type": "code",
        "outputId": "fdac7206-b46e-415c-dde6-0fdb768386dc",
        "colab": {
          "base_uri": "https://localhost:8080/",
          "height": 51
        }
      },
      "source": [
        "#Solución\n",
        "x_f = []\n",
        "for element in x:\n",
        "  #<FILL IN> Añadir elementos a una lista -> .append de tipo float siendo element cada posicion recorrida en el for en la lista x\n",
        "  x_f.append(float(element))\n",
        "  \n",
        "print(x_f)\n",
        "print(type(x_f[0]))"
      ],
      "execution_count": 4,
      "outputs": [
        {
          "output_type": "stream",
          "text": [
            "[5.0, 4.0, 3.0, 4.0]\n",
            "<class 'float'>\n"
          ],
          "name": "stdout"
        }
      ]
    },
    {
      "cell_type": "markdown",
      "metadata": {
        "id": "EOF06NwDY_4C",
        "colab_type": "text"
      },
      "source": [
        "Numpy is a python library that lets you work with **VECTORES DE DATOS Y MATRICES** (we will call them numpy arrays) and directly apply operations over these arrays without the need to operate element by element.\n",
        "\n",
        "Numpy arrays can be defined directly using methods such as **np.arange(), np.ones(), np.zeros(), np.eye()**, as well as random number generators. \n",
        "\n",
        "Alternatively, you can easily generate them from python lists (or lists of lists) containing elements of a numerical type by using np.array(my_list).\n",
        "\n",
        "You can easily check the shape of any numpy array with the property .shape.\n"
      ]
    },
    {
      "cell_type": "code",
      "metadata": {
        "id": "Im60dEEvfJyR",
        "colab_type": "code",
        "outputId": "2668614d-1682-4481-ed01-70f2a10aa200",
        "colab": {
          "base_uri": "https://localhost:8080/",
          "height": 204
        }
      },
      "source": [
        "# Numpy arrays can be created from numeric lists or using different numpy methods\n",
        "y = np.arange(8) + 1\n",
        "x = np.array(x_f)\n",
        "z = np.array([[1, 2], [2, 1]])\n",
        "\n",
        "# The arange() function generates vectors of equally spaced numbers. We can \n",
        "# specify start and stop positions as well as the step length (the steps don't \n",
        "# need to be integers!):\n",
        "print('A vector that goes from 2 to 8 in steps of 2: ', np.arange(2, 9, 2))\n",
        "\n",
        "# Numpy also has a linspace() function that works exactly like its Matlab \n",
        "# counterpart:\n",
        "print('\\nA vector of length 5 that spans from 0 to 1 in constant increments:\\n', \n",
        "      np.linspace(0, 1, 5))\n",
        "\n",
        "# Check the different data types involved\n",
        "print('\\nThe type of variable x_f is ', type(x_f))\n",
        "print('The type of variable x is ', type(x))\n",
        "\n",
        "# Print the shapes of the numpy arrays\n",
        "print('\\nThe variable x has shape ', x.shape)\n",
        "print('The variable y has shape ', y.shape)\n",
        "print('The variable z has shape ', z.shape)\n",
        "\n",
        "\n",
        "\n",
        "#Note: Compare the shape of x and y with the shape of z and note the difference between 1-D and N-D numpy arrays (ndarrays). \n",
        "#We will later review this issue in detail."
      ],
      "execution_count": 5,
      "outputs": [
        {
          "output_type": "stream",
          "text": [
            "A vector that goes from 2 to 8 in steps of 2:  [2 4 6 8]\n",
            "\n",
            "A vector of length 5 that spans from 0 to 1 in constant increments:\n",
            " [0.   0.25 0.5  0.75 1.  ]\n",
            "\n",
            "The type of variable x_f is  <class 'list'>\n",
            "The type of variable x is  <class 'numpy.ndarray'>\n",
            "\n",
            "The variable x has shape  (4,)\n",
            "The variable y has shape  (8,)\n",
            "The variable z has shape  (2, 2)\n"
          ],
          "name": "stdout"
        }
      ]
    },
    {
      "cell_type": "markdown",
      "metadata": {
        "id": "VIlagng-l5CS",
        "colab_type": "text"
      },
      "source": [
        "We can also convert a numpy array or matrix into a python list with the method **np.tolist().**\n",
        "\n"
      ]
    },
    {
      "cell_type": "code",
      "metadata": {
        "id": "18SJMEQHl1k5",
        "colab_type": "code",
        "outputId": "2155a9ca-8be7-4aa2-b87e-84ab9ed3f22c",
        "colab": {
          "base_uri": "https://localhost:8080/",
          "height": 136
        }
      },
      "source": [
        "my_array = np.arange(9).reshape((3, 3))\n",
        "print(my_array)\n",
        "print('the type is: ', type(my_array))\n",
        "\n",
        "# Convert my_array to list\n",
        "\n",
        "my_array_list =  my_array.tolist()\n",
        "print('\\n', my_array_list)\n",
        "print('the type is: ',type(my_array_list))"
      ],
      "execution_count": 6,
      "outputs": [
        {
          "output_type": "stream",
          "text": [
            "[[0 1 2]\n",
            " [3 4 5]\n",
            " [6 7 8]]\n",
            "the type is:  <class 'numpy.ndarray'>\n",
            "\n",
            " [[0, 1, 2], [3, 4, 5], [6, 7, 8]]\n",
            "the type is:  <class 'list'>\n"
          ],
          "name": "stdout"
        }
      ]
    },
    {
      "cell_type": "code",
      "metadata": {
        "id": "AEZFz1vNdQgq",
        "colab_type": "code",
        "outputId": "378f7043-773b-48f3-91af-bbb77c0606fd",
        "colab": {
          "base_uri": "https://localhost:8080/",
          "height": 425
        }
      },
      "source": [
        "#Ejercicios\n",
        "# 1. Define a new 3x2 array named my_array with [1, 2, 3] in the first row and \n",
        "# [4, 5, 6] in the second. Check the dimension of the array.\n",
        "#my_array = <FILL IN> ----- \n",
        "\n",
        "my_array =np.array([[1,2,3],[4,5,6]])\n",
        "print(my_array)\n",
        "print('Its shape is: ', np.shape(my_array))\n",
        "\n",
        "#2. Define a new 3x4 array named my_zeros with all its elements to zero\n",
        "#my_zeros = <FILL IN>\n",
        "\n",
        "my_zeros = np.zeros((3,4))  #siempre entre parentesis tras np.x; si das dimensiones ()\n",
        "                                                                # si das directamente los elementos [[1,2,3]]\n",
        "print('A 3x4 vector of zeros:') \n",
        "print(my_zeros)\n",
        "\n",
        "#3. Define a new 4x2 array named my_ones with all its elements to one\n",
        "#my_ones = <FILL IN>\n",
        "my_ones= np.ones((4,2))\n",
        "print('A 4x2 vector of ones:') \n",
        "print(my_ones)\n",
        "\n",
        "#4. Modify the dimensions of my_ones to a 2x4 array using command np.reshape()\n",
        "#my_ones2 = <FILL IN>\n",
        "\n",
        "my_ones2 = my_ones.reshape((2,4))\n",
        "print('A 2x4 vector of ones:') \n",
        "print(my_ones2)\n",
        "\n",
        "#5. Define a new 4x4 identity array named my_eye \n",
        "#my_eye = <FILL IN>\n",
        "\n",
        "my_eye = np.identity(4).reshape((4,4)) #np.identity -> matriz de identidad\n",
        "my_eye2=np.eye((4))\n",
        "print('A 4x4 identity vector:') \n",
        "print(my_eye)\n",
        "print(my_eye2)"
      ],
      "execution_count": 7,
      "outputs": [
        {
          "output_type": "stream",
          "text": [
            "[[1 2 3]\n",
            " [4 5 6]]\n",
            "Its shape is:  (2, 3)\n",
            "A 3x4 vector of zeros:\n",
            "[[0. 0. 0. 0.]\n",
            " [0. 0. 0. 0.]\n",
            " [0. 0. 0. 0.]]\n",
            "A 4x2 vector of ones:\n",
            "[[1. 1.]\n",
            " [1. 1.]\n",
            " [1. 1.]\n",
            " [1. 1.]]\n",
            "A 2x4 vector of ones:\n",
            "[[1. 1. 1. 1.]\n",
            " [1. 1. 1. 1.]]\n",
            "A 4x4 identity vector:\n",
            "[[1. 0. 0. 0.]\n",
            " [0. 1. 0. 0.]\n",
            " [0. 0. 1. 0.]\n",
            " [0. 0. 0. 1.]]\n",
            "[[1. 0. 0. 0.]\n",
            " [0. 1. 0. 0.]\n",
            " [0. 0. 1. 0.]\n",
            " [0. 0. 0. 1.]]\n"
          ],
          "name": "stdout"
        }
      ]
    },
    {
      "cell_type": "markdown",
      "metadata": {
        "id": "DFhF7FIohQVH",
        "colab_type": "text"
      },
      "source": [
        "# 2.2 Numpy operations"
      ]
    },
    {
      "cell_type": "code",
      "metadata": {
        "id": "gSv-Cdsie9ZT",
        "colab_type": "code",
        "outputId": "446d4b6d-db10-4376-9a49-47897fa039f7",
        "colab": {
          "base_uri": "https://localhost:8080/",
          "height": 255
        }
      },
      "source": [
        "#Sumar y Restar\n",
        "x1 = np.arange(9).reshape((3, 3))\n",
        "x2 = np.ones((3, 3))\n",
        "result= x1 + x2\n",
        "print('x1:\\n', x1, '\\n\\nx2:\\n', x2)\n",
        "print('\\nAddition of x1 and x2 using the + operator:\\n', result)"
      ],
      "execution_count": 8,
      "outputs": [
        {
          "output_type": "stream",
          "text": [
            "x1:\n",
            " [[0 1 2]\n",
            " [3 4 5]\n",
            " [6 7 8]] \n",
            "\n",
            "x2:\n",
            " [[1. 1. 1.]\n",
            " [1. 1. 1.]\n",
            " [1. 1. 1.]]\n",
            "\n",
            "Addition of x1 and x2 using the + operator:\n",
            " [[1. 2. 3.]\n",
            " [4. 5. 6.]\n",
            " [7. 8. 9.]]\n"
          ],
          "name": "stdout"
        }
      ]
    },
    {
      "cell_type": "code",
      "metadata": {
        "id": "RO1w9UzQhoyK",
        "colab_type": "code",
        "outputId": "c8eaf99d-f64f-4c8b-96db-03d9bf06124e",
        "colab": {
          "base_uri": "https://localhost:8080/",
          "height": 255
        }
      },
      "source": [
        "#Añadir o restar 2 arrays de forma built-in\n",
        "x1 = np.arange(9).reshape((3, 3))\n",
        "x2 = np.ones((3, 3))\n",
        "result = np.add(x1, x2)    #O en el caso de restar, np.subtract(x1,x2)\n",
        "print('x1:\\n', x1, '\\n\\nx2:\\n', x2)\n",
        "print('\\nAddition of x1 and x2 using built-in functions:\\n', result)\n"
      ],
      "execution_count": 9,
      "outputs": [
        {
          "output_type": "stream",
          "text": [
            "x1:\n",
            " [[0 1 2]\n",
            " [3 4 5]\n",
            " [6 7 8]] \n",
            "\n",
            "x2:\n",
            " [[1. 1. 1.]\n",
            " [1. 1. 1.]\n",
            " [1. 1. 1.]]\n",
            "\n",
            "Addition of x1 and x2 using built-in functions:\n",
            " [[1. 2. 3.]\n",
            " [4. 5. 6.]\n",
            " [7. 8. 9.]]\n"
          ],
          "name": "stdout"
        }
      ]
    },
    {
      "cell_type": "code",
      "metadata": {
        "id": "6Qp-riX_iIOW",
        "colab_type": "code",
        "outputId": "9c4f2a21-554b-460f-c849-2770f0595123",
        "colab": {
          "base_uri": "https://localhost:8080/",
          "height": 391
        }
      },
      "source": [
        "# We can add or subtract row and column vectors:\n",
        "row_vect = np.ones((1, 3))\n",
        "col_vect = np.ones((3, 1))\n",
        "result = np.add(x1, row_vect)\n",
        "print('x1:\\n', x1, '\\n\\nrow_vect:\\n', row_vect, '\\n\\ncol_vect:\\n', col_vect)\n",
        "print('\\nAddition of a row vector:\\n', result)\n",
        "result = np.add(x1, col_vect)\n",
        "print('\\nAddition of a column vector:\\n', result)"
      ],
      "execution_count": 10,
      "outputs": [
        {
          "output_type": "stream",
          "text": [
            "x1:\n",
            " [[0 1 2]\n",
            " [3 4 5]\n",
            " [6 7 8]] \n",
            "\n",
            "row_vect:\n",
            " [[1. 1. 1.]] \n",
            "\n",
            "col_vect:\n",
            " [[1.]\n",
            " [1.]\n",
            " [1.]]\n",
            "\n",
            "Addition of a row vector:\n",
            " [[1. 2. 3.]\n",
            " [4. 5. 6.]\n",
            " [7. 8. 9.]]\n",
            "\n",
            "Addition of a column vector:\n",
            " [[1. 2. 3.]\n",
            " [4. 5. 6.]\n",
            " [7. 8. 9.]]\n"
          ],
          "name": "stdout"
        }
      ]
    },
    {
      "cell_type": "code",
      "metadata": {
        "id": "6D1OkVMIjwf2",
        "colab_type": "code",
        "outputId": "5c6d0189-3a93-4565-c998-9400a431ac6e",
        "colab": {
          "base_uri": "https://localhost:8080/",
          "height": 340
        }
      },
      "source": [
        "#El operando \"*\" no te hace multiplicación de matrices, element-wise multiplication\n",
        "\n",
        "# We can perform element-wise multiplication by using the * operator:\n",
        "x1 = np.arange(9).reshape((3, 3))\n",
        "x2 = np.ones((3, 3)) * 2 # a 3x3 array with 2s in every cell\n",
        "result = x1 * x2\n",
        "print('x1:\\n', x1, '\\n\\nx2:\\n', x2)\n",
        "print('\\nElement-wise multiplication of x1 and x2 using the * operator:\\n', result)\n",
        "\n",
        "# or by using the built-in numpy function:\n",
        "result = np.multiply(x1, x2)\n",
        "print('\\nElement-wise multiplication of x1 and x2 using built-in functions:\\n', result)"
      ],
      "execution_count": 11,
      "outputs": [
        {
          "output_type": "stream",
          "text": [
            "x1:\n",
            " [[0 1 2]\n",
            " [3 4 5]\n",
            " [6 7 8]] \n",
            "\n",
            "x2:\n",
            " [[2. 2. 2.]\n",
            " [2. 2. 2.]\n",
            " [2. 2. 2.]]\n",
            "\n",
            "Element-wise multiplication of x1 and x2 using the * operator:\n",
            " [[ 0.  2.  4.]\n",
            " [ 6.  8. 10.]\n",
            " [12. 14. 16.]]\n",
            "\n",
            "Element-wise multiplication of x1 and x2 using built-in functions:\n",
            " [[ 0.  2.  4.]\n",
            " [ 6.  8. 10.]\n",
            " [12. 14. 16.]]\n"
          ],
          "name": "stdout"
        }
      ]
    },
    {
      "cell_type": "code",
      "metadata": {
        "id": "rxW2_yQ6ktci",
        "colab_type": "code",
        "outputId": "9adfbe1e-08ba-464a-ea04-004c3776ef94",
        "colab": {
          "base_uri": "https://localhost:8080/",
          "height": 408
        }
      },
      "source": [
        "# We can perform matrix multiplication:\n",
        "x1 = np.arange(9).reshape((3, 3))\n",
        "x2 = np.ones((3, 3)) * 2 # a 3x3 array with 2s in every cell\n",
        "result = np.matmul(x1, x2) #Multiplicacion de matrices\n",
        "print('x1:\\n', x1, '\\n\\nx2:\\n', x2)\n",
        "print('\\nProduct of x1 and x2:\\n', result)\n",
        "\n",
        "# Or the dot product between vectors:\n",
        "v1 = np.arange(4)\n",
        "v2 = np.arange(3, 7)\n",
        "result = np.dot(v1, v2) #PARA VECTORES y también vale como np.matmul()\n",
        "print('\\nv1:\\n', v1, '\\n\\nv2:\\n', v2)\n",
        "print('\\nDot product of v1 and v2:\\n', result)"
      ],
      "execution_count": 12,
      "outputs": [
        {
          "output_type": "stream",
          "text": [
            "x1:\n",
            " [[0 1 2]\n",
            " [3 4 5]\n",
            " [6 7 8]] \n",
            "\n",
            "x2:\n",
            " [[2. 2. 2.]\n",
            " [2. 2. 2.]\n",
            " [2. 2. 2.]]\n",
            "\n",
            "Product of x1 and x2:\n",
            " [[ 6.  6.  6.]\n",
            " [24. 24. 24.]\n",
            " [42. 42. 42.]]\n",
            "\n",
            "v1:\n",
            " [0 1 2 3] \n",
            "\n",
            "v2:\n",
            " [3 4 5 6]\n",
            "\n",
            "Dot product of v1 and v2:\n",
            " 32\n"
          ],
          "name": "stdout"
        }
      ]
    },
    {
      "cell_type": "code",
      "metadata": {
        "id": "7oTa8xdFmMFq",
        "colab_type": "code",
        "colab": {
          "base_uri": "https://localhost:8080/",
          "height": 340
        },
        "outputId": "5ecdee04-b67f-4a36-f8d2-49286d1f818a"
      },
      "source": [
        "# Examples of element-wise numerical operations:\n",
        "x1 = np.arange(9).reshape((3, 3)) + 1\n",
        "print('x1:\\n', x1)\n",
        "print('\\nExponentiation of x1:\\n', np.exp(x1))\n",
        "print('\\nLogarithm of x1:\\n', np.log(x1))\n",
        "print('\\nSquare root of x1:\\n', np.sqrt(x1))"
      ],
      "execution_count": 13,
      "outputs": [
        {
          "output_type": "stream",
          "text": [
            "x1:\n",
            " [[1 2 3]\n",
            " [4 5 6]\n",
            " [7 8 9]]\n",
            "\n",
            "Exponentiation of x1:\n",
            " [[2.71828183e+00 7.38905610e+00 2.00855369e+01]\n",
            " [5.45981500e+01 1.48413159e+02 4.03428793e+02]\n",
            " [1.09663316e+03 2.98095799e+03 8.10308393e+03]]\n",
            "\n",
            "Logarithm of x1:\n",
            " [[0.         0.69314718 1.09861229]\n",
            " [1.38629436 1.60943791 1.79175947]\n",
            " [1.94591015 2.07944154 2.19722458]]\n",
            "\n",
            "Square root of x1:\n",
            " [[1.         1.41421356 1.73205081]\n",
            " [2.         2.23606798 2.44948974]\n",
            " [2.64575131 2.82842712 3.        ]]\n"
          ],
          "name": "stdout"
        }
      ]
    },
    {
      "cell_type": "code",
      "metadata": {
        "id": "YOiJ7MNgnye7",
        "colab_type": "code",
        "outputId": "d7c0101e-f45e-41bc-ddd1-6e5a9222b202",
        "colab": {
          "base_uri": "https://localhost:8080/",
          "height": 323
        }
      },
      "source": [
        "#Element-wise division between matrices is performed using the ''/'' operator or the divide() built-in function:\n",
        "# Element-wise division of two matrices:\n",
        "x1 = np.arange(9).reshape((3, 3)) * 3\n",
        "x2 = np.ones((3, 3)) * 3\n",
        "result = np.divide(x1, x2)\n",
        "result2= x1/x2\n",
        "print('x2: \\n', result2)\n",
        "print('x1:\\n', x1, '\\n\\nx2:\\n', x2)\n",
        "print('\\nElement-wise division of x1 and x2:\\n', result)"
      ],
      "execution_count": 14,
      "outputs": [
        {
          "output_type": "stream",
          "text": [
            "x2: \n",
            " [[0. 1. 2.]\n",
            " [3. 4. 5.]\n",
            " [6. 7. 8.]]\n",
            "x1:\n",
            " [[ 0  3  6]\n",
            " [ 9 12 15]\n",
            " [18 21 24]] \n",
            "\n",
            "x2:\n",
            " [[3. 3. 3.]\n",
            " [3. 3. 3.]\n",
            " [3. 3. 3.]]\n",
            "\n",
            "Element-wise division of x1 and x2:\n",
            " [[0. 1. 2.]\n",
            " [3. 4. 5.]\n",
            " [6. 7. 8.]]\n"
          ],
          "name": "stdout"
        }
      ]
    },
    {
      "cell_type": "code",
      "metadata": {
        "id": "yyKJQcCgn_iA",
        "colab_type": "code",
        "colab": {
          "base_uri": "https://localhost:8080/",
          "height": 425
        },
        "outputId": "8efe1612-6b28-43ef-8208-13d4d82ad225"
      },
      "source": [
        "#We can use the ''**'' operator or the power() built-in function to raise elements from a matrix to a given power, \n",
        "#or to raise elements of one matrix to positionally-corresponding powers in another matrix:\n",
        "# Performing power operations with the ** operator:\n",
        "x1 = np.arange(9).reshape((3, 3))\n",
        "result = x1**2\n",
        "print('x1:\\n', x1)\n",
        "print('\\nRaising all elements in x1 to the power of 2 using the ** operator:\\n', result)\n",
        "\n",
        "result = x1**x1\n",
        "print('\\nRaising all elements in x1 to themselves using the ** operator:\\n', result)\n",
        "\n",
        "# Performing power operations with the power() function:\n",
        "result = np.power(x1, 2)\n",
        "print('\\nRaising all elements in x1 to the power of 2 using the power() function:\\n', result)\n",
        "\n",
        "result = np.power(x1, x1)\n",
        "print('\\nRaising all elements in x1 to themselves using the power() function:\\n', result)"
      ],
      "execution_count": 15,
      "outputs": [
        {
          "output_type": "stream",
          "text": [
            "x1:\n",
            " [[0 1 2]\n",
            " [3 4 5]\n",
            " [6 7 8]]\n",
            "\n",
            "Raising all elements in x1 to the power of 2 using the ** operator:\n",
            " [[ 0  1  4]\n",
            " [ 9 16 25]\n",
            " [36 49 64]]\n",
            "\n",
            "Raising all elements in x1 to themselves using the ** operator:\n",
            " [[       1        1        4]\n",
            " [      27      256     3125]\n",
            " [   46656   823543 16777216]]\n",
            "\n",
            "Raising all elements in x1 to the power of 2 using the power() function:\n",
            " [[ 0  1  4]\n",
            " [ 9 16 25]\n",
            " [36 49 64]]\n",
            "\n",
            "Raising all elements in x1 to themselves using the power() function:\n",
            " [[       1        1        4]\n",
            " [      27      256     3125]\n",
            " [   46656   823543 16777216]]\n"
          ],
          "name": "stdout"
        }
      ]
    },
    {
      "cell_type": "code",
      "metadata": {
        "id": "TgzceP_6zpB_",
        "colab_type": "code",
        "colab": {
          "base_uri": "https://localhost:8080/",
          "height": 374
        },
        "outputId": "cdb7b30d-897c-456f-e2c4-9a5372944f78"
      },
      "source": [
        "#Transponer una matriz np.transpose()\n",
        "# Three different ways of transposing a matrix:\n",
        "x1 = np.arange(9).reshape((3, 3))\n",
        "print('x1:\\n', x1)\n",
        "print('\\nTranspose of x1 using the numpy function:\\n', np.transpose(x1)) #1\n",
        "print('\\nTranspose of x1 using the ndarray method:\\n', x1.transpose()) #2\n",
        "print('\\nTranspose of x1 using the abbreviated form:\\n', x1.T)  #3\n",
        "print('\\nOddly enough, the three methods produce the same result!')\n"
      ],
      "execution_count": 16,
      "outputs": [
        {
          "output_type": "stream",
          "text": [
            "x1:\n",
            " [[0 1 2]\n",
            " [3 4 5]\n",
            " [6 7 8]]\n",
            "\n",
            "Transpose of x1 using the numpy function:\n",
            " [[0 3 6]\n",
            " [1 4 7]\n",
            " [2 5 8]]\n",
            "\n",
            "Transpose of x1 using the ndarray method:\n",
            " [[0 3 6]\n",
            " [1 4 7]\n",
            " [2 5 8]]\n",
            "\n",
            "Transpose of x1 using the abbreviated form:\n",
            " [[0 3 6]\n",
            " [1 4 7]\n",
            " [2 5 8]]\n",
            "\n",
            "Oddly enough, the three methods produce the same result!\n"
          ],
          "name": "stdout"
        }
      ]
    },
    {
      "cell_type": "code",
      "metadata": {
        "id": "RPmt6BQh0Gcf",
        "colab_type": "code",
        "colab": {}
      },
      "source": [
        "# Complete the following exercises. Print the partial results to visualize them.\n",
        "\n",
        "# Create a 3x4 array called `y`. It's up to you to decide what it contains.\n",
        "y = np.arange(12).reshape((3, 4))\n",
        "#y = <FILL IN>\n",
        "\n",
        "# Create a column vector of length 3 called `x_col`. \n",
        "x_col = np.ones((3, 1)) * 2\n",
        "#x_col = <FILL IN>\n",
        "\n",
        "# Multiply the 2-D array `y` by 2\n",
        "y_by2 = y * 2\n",
        "#y_by2 = <FILL IN>\n",
        "\n",
        "# Multiply each of the columns in `y` by the column vector `x_col`\n",
        "z = x_col * y\n",
        "#z = <FILL IN>\n",
        "\n",
        "# Obtain the matrix product of the transpose of x_col and y\n",
        "x_by_y = x_col.transpose()*y.transpose()\n",
        "#x_by_y = <FILL IN>\n",
        "\n",
        "# Compute the sine of a vector that spans from -5 to 5 in increments of 0.5\n",
        "x = np.arange(-5, 5.5, 0.5)\n",
        "x_sin = np.sin(x)\n",
        "#x = <FILL IN>\n",
        "#x_sin = <FILL IN>"
      ],
      "execution_count": 0,
      "outputs": []
    },
    {
      "cell_type": "markdown",
      "metadata": {
        "id": "4jrVm2Lo1gBz",
        "colab_type": "text"
      },
      "source": [
        "# 2.2. N-D numpy arrays\n"
      ]
    },
    {
      "cell_type": "code",
      "metadata": {
        "id": "oVTMzIEe1aTS",
        "colab_type": "code",
        "colab": {}
      },
      "source": [
        "#ejemplo de array de 1-D y 2-D\n",
        "array1 = np.array([1,1,1])\n",
        "print('array1:\\n', array1)\n",
        "\n",
        "array2 = np.ones((3,1))\n",
        "print('\\narray2:\\n', array2)\n",
        "\n",
        "#Modificar la dimensión de un array, flatten(), ravel() and reshape()\n",
        "x1 = np.arange(9).reshape((3, 3))\n",
        "print('x1:\\n', x1)\n",
        "print('Its shape is: ', x1.shape)\n",
        "\n",
        "print('\\n Use the method flaten:')\n",
        "print('x1.flatten(): ', x1.flatten())\n",
        "print('Its shape is: ', x1.flatten().shape)\n",
        "\n",
        "print('\\n Use the method ravel:')\n",
        "print('x1.ravel(): ', x1.ravel())\n",
        "print('Its shape is:', x1.ravel().shape)\n",
        "\n",
        "print('\\n Use the method shape:')\n",
        "print('x1.reshape(-1): ', x1.reshape(-1))\n",
        "print('Its shape is: ', x1.reshape(-1).shape)\n",
        "\n",
        "#Utilizar reshape() tiene que cumplirse que i*j=i'*j'\n",
        "print('\\n A more common use of reshape():')\n",
        "x1 = np.arange(12).reshape((4, 3))\n",
        "print('x1:\\n', x1)\n",
        "print('Its shape is: ', x1.shape)\n",
        "\n",
        "print('\\nx1.reshape((2,6)):\\n', x1.reshape((2,6)))\n",
        "print('Its shape is: ', x1.reshape((2,6)).shape)"
      ],
      "execution_count": 0,
      "outputs": []
    },
    {
      "cell_type": "code",
      "metadata": {
        "id": "mh88NLhTuVDU",
        "colab_type": "code",
        "colab": {
          "base_uri": "https://localhost:8080/",
          "height": 238
        },
        "outputId": "c77fe639-f5b5-4c34-af71-c12afddec448"
      },
      "source": [
        "#Para pasar de array 1-D a 2-D\n",
        "\n",
        "# Let's start with a 1-D array:\n",
        "array1 = np.array([1,1,1,])\n",
        "print('1D array:\\n',array1)\n",
        "print('Its shape is: ', array1.shape)\n",
        "\n",
        "# Let's turn it into a column vector (2-D array with dimension 1x3):\n",
        "array2 = array1[:,np.newaxis]\n",
        "print('\\n2D array:\\n',array2)\n",
        "print('Its shape is: ', array2.shape)\n",
        "\n",
        "# Let's turn it into a row vector (2-D array with dimension 3x1):\n",
        "array3 = array1[np.newaxis,:]\n",
        "print('\\n2D array:\\n',array3)\n",
        "print('Its shape is: ', array3.shape)"
      ],
      "execution_count": 20,
      "outputs": [
        {
          "output_type": "stream",
          "text": [
            "1D array:\n",
            " [1 1 1]\n",
            "Its shape is:  (3,)\n",
            "\n",
            "2D array:\n",
            " [[1]\n",
            " [1]\n",
            " [1]]\n",
            "Its shape is:  (3, 1)\n",
            "\n",
            "2D array:\n",
            " [[1 1 1]]\n",
            "Its shape is:  (1, 3)\n"
          ],
          "name": "stdout"
        }
      ]
    },
    {
      "cell_type": "code",
      "metadata": {
        "id": "c9CtT3VRuASH",
        "colab_type": "code",
        "colab": {}
      },
      "source": [
        ""
      ],
      "execution_count": 0,
      "outputs": []
    },
    {
      "cell_type": "code",
      "metadata": {
        "id": "I_VspDMUuoZ4",
        "colab_type": "code",
        "colab": {
          "base_uri": "https://localhost:8080/",
          "height": 204
        },
        "outputId": "2520c0d3-83ff-4b5d-9f7c-0a5cad0508cc"
      },
      "source": [
        "#Para quitar dimensiones vacias o inutilizadas ---> np.squeeze()\n",
        "\n",
        "array1 = np.array([1,1,1,])\n",
        "array2 = array1[:,np.newaxis]\n",
        "\n",
        "array1_1D = np.squeeze(array1)\n",
        "print('1D array:\\n',array1_1D)\n",
        "print('Its shape is: ', array1_1D.shape)\n",
        "\n",
        "array2_1D = np.squeeze(array2)\n",
        "print('\\n1D array:\\n',array2_1D)\n",
        "print('Its shape is: ', array2_1D.shape)\n",
        "\n",
        "array3_1D = np.squeeze(array3)\n",
        "print('\\n1D array:\\n',array3_1D)\n",
        "print('Its shape is: ', array3_1D.shape)"
      ],
      "execution_count": 22,
      "outputs": [
        {
          "output_type": "stream",
          "text": [
            "1D array:\n",
            " [1 1 1]\n",
            "Its shape is:  (3,)\n",
            "\n",
            "1D array:\n",
            " [1 1 1]\n",
            "Its shape is:  (3,)\n",
            "\n",
            "1D array:\n",
            " [1 1 1]\n",
            "Its shape is:  (3,)\n"
          ],
          "name": "stdout"
        }
      ]
    },
    {
      "cell_type": "code",
      "metadata": {
        "id": "jSvXCqbUvRyK",
        "colab_type": "code",
        "colab": {}
      },
      "source": [
        ""
      ],
      "execution_count": 0,
      "outputs": []
    },
    {
      "cell_type": "code",
      "metadata": {
        "id": "j3wnLOlavsyr",
        "colab_type": "code",
        "colab": {
          "base_uri": "https://localhost:8080/",
          "height": 153
        },
        "outputId": "d19bbec9-80cc-4fbe-94fa-f8ea55ba05c0"
      },
      "source": [
        "#Ejercicios:\n",
        "\n",
        "# Given the following matrix and vector:\n",
        "vect = np.arange(3)[:, np.newaxis]\n",
        "mat = np.arange(9).reshape((3, 3))\n",
        "\n",
        "# Apply the necessary transformation to vect so that you can perform the matrix\n",
        "# multiplication np.matmul(vect, mat)\n",
        "vect = vect.reshape(1,3)\n",
        "\n",
        "# <FILL IN>\n",
        "print(np.matmul(vect, mat))"
      ],
      "execution_count": 28,
      "outputs": [
        {
          "output_type": "stream",
          "text": [
            "[[0]\n",
            " [1]\n",
            " [2]]\n",
            "[[0 1 2]\n",
            " [3 4 5]\n",
            " [6 7 8]]\n",
            "[[0 1 2]]\n",
            "[15 18 21]\n"
          ],
          "name": "stdout"
        }
      ]
    },
    {
      "cell_type": "markdown",
      "metadata": {
        "id": "FkXGjZtmydxG",
        "colab_type": "text"
      },
      "source": [
        "# 2.3. Numpy methods that can be carried out along different dimensions"
      ]
    },
    {
      "cell_type": "code",
      "metadata": {
        "id": "CYvxsPolxf8K",
        "colab_type": "code",
        "colab": {}
      },
      "source": [
        ""
      ],
      "execution_count": 0,
      "outputs": []
    }
  ]
}