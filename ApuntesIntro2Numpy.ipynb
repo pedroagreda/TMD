{
  "nbformat": 4,
  "nbformat_minor": 0,
  "metadata": {
    "colab": {
      "name": "ApuntesIntro2Numpy.ipynb",
      "provenance": [],
      "include_colab_link": true
    },
    "kernelspec": {
      "name": "python3",
      "display_name": "Python 3"
    }
  },
  "cells": [
    {
      "cell_type": "markdown",
      "metadata": {
        "id": "view-in-github",
        "colab_type": "text"
      },
      "source": [
        "<a href=\"https://colab.research.google.com/github/pedroagreda/TMD/blob/master/ApuntesIntro2Numpy.ipynb\" target=\"_parent\"><img src=\"https://colab.research.google.com/assets/colab-badge.svg\" alt=\"Open In Colab\"/></a>"
      ]
    },
    {
      "cell_type": "code",
      "metadata": {
        "id": "MulZlH1bK2x2",
        "colab_type": "code",
        "colab": {}
      },
      "source": [
        "import numpy as np\n",
        "#numpy -> arrays multidimensionales y matrices"
      ],
      "execution_count": 0,
      "outputs": []
    },
    {
      "cell_type": "code",
      "metadata": {
        "id": "fuySaHmqPdka",
        "colab_type": "code",
        "outputId": "f0177d12-7c69-4c8d-bd63-3b5978f24f42",
        "colab": {
          "base_uri": "https://localhost:8080/",
          "height": 34
        }
      },
      "source": [
        "x=[5, 4, 3, 4]\n",
        "print(type(x[0]))"
      ],
      "execution_count": 4,
      "outputs": [
        {
          "output_type": "stream",
          "text": [
            "<class 'int'>\n"
          ],
          "name": "stdout"
        }
      ]
    },
    {
      "cell_type": "code",
      "metadata": {
        "id": "_6ZCPIa_Pj2M",
        "colab_type": "code",
        "colab": {}
      },
      "source": [
        "#Enunciado: Crea una lista de tipo float con los mismos elementos que x\n",
        "#x_f = []\n",
        "#for element in x:\n",
        "  #<FILL IN>\n",
        "  \n",
        "#print(x_f)\n",
        "#print(type(x_f[0]))\n",
        "\n",
        "\n"
      ],
      "execution_count": 0,
      "outputs": []
    },
    {
      "cell_type": "code",
      "metadata": {
        "id": "z2braf-NRRhY",
        "colab_type": "code",
        "outputId": "e70e989b-8164-4e20-a272-51add9209de9",
        "colab": {
          "base_uri": "https://localhost:8080/",
          "height": 51
        }
      },
      "source": [
        "#Solución\n",
        "x_f = []\n",
        "for element in x:\n",
        "  #<FILL IN> Añadir elementos a una lista -> .append de tipo float siendo element cada posicion recorrida en el for en la lista x\n",
        "  x_f.append(float(element))\n",
        "  \n",
        "print(x_f)\n",
        "print(type(x_f[0]))"
      ],
      "execution_count": 6,
      "outputs": [
        {
          "output_type": "stream",
          "text": [
            "[5.0, 4.0, 3.0, 4.0]\n",
            "<class 'float'>\n"
          ],
          "name": "stdout"
        }
      ]
    },
    {
      "cell_type": "markdown",
      "metadata": {
        "id": "EOF06NwDY_4C",
        "colab_type": "text"
      },
      "source": [
        "Numpy is a python library that lets you work with **VECTORES DE DATOS Y MATRICES** (we will call them numpy arrays) and directly apply operations over these arrays without the need to operate element by element.\n",
        "\n",
        "Numpy arrays can be defined directly using methods such as **np.arange(), np.ones(), np.zeros(), np.eye()**, as well as random number generators. \n",
        "\n",
        "Alternatively, you can easily generate them from python lists (or lists of lists) containing elements of a numerical type by using np.array(my_list).\n",
        "\n",
        "You can easily check the shape of any numpy array with the property .shape.\n"
      ]
    },
    {
      "cell_type": "code",
      "metadata": {
        "id": "Im60dEEvfJyR",
        "colab_type": "code",
        "colab": {
          "base_uri": "https://localhost:8080/",
          "height": 204
        },
        "outputId": "881b7f98-d0c1-48b3-ceab-9e1a1a6fee9b"
      },
      "source": [
        "# Numpy arrays can be created from numeric lists or using different numpy methods\n",
        "y = np.arange(8) + 1\n",
        "x = np.array(x_f)\n",
        "z = np.array([[1, 2], [2, 1]])\n",
        "\n",
        "# The arange() function generates vectors of equally spaced numbers. We can \n",
        "# specify start and stop positions as well as the step length (the steps don't \n",
        "# need to be integers!):\n",
        "print('A vector that goes from 2 to 8 in steps of 2: ', np.arange(2, 9, 2))\n",
        "\n",
        "# Numpy also has a linspace() function that works exactly like its Matlab \n",
        "# counterpart:\n",
        "print('\\nA vector of length 5 that spans from 0 to 1 in constant increments:\\n', \n",
        "      np.linspace(0, 1, 5))\n",
        "\n",
        "# Check the different data types involved\n",
        "print('\\nThe type of variable x_f is ', type(x_f))\n",
        "print('The type of variable x is ', type(x))\n",
        "\n",
        "# Print the shapes of the numpy arrays\n",
        "print('\\nThe variable x has shape ', x.shape)\n",
        "print('The variable y has shape ', y.shape)\n",
        "print('The variable z has shape ', z.shape)\n",
        "\n",
        "\n",
        "\n",
        "#Note: Compare the shape of x and y with the shape of z and note the difference between 1-D and N-D numpy arrays (ndarrays). \n",
        "#We will later review this issue in detail."
      ],
      "execution_count": 14,
      "outputs": [
        {
          "output_type": "stream",
          "text": [
            "A vector that goes from 2 to 8 in steps of 2:  [2 4 6 8]\n",
            "\n",
            "A vector of length 5 that spans from 0 to 1 in constant increments:\n",
            " [0.   0.25 0.5  0.75 1.  ]\n",
            "\n",
            "The type of variable x_f is  <class 'list'>\n",
            "The type of variable x is  <class 'numpy.ndarray'>\n",
            "\n",
            "The variable x has shape  (4,)\n",
            "The variable y has shape  (8,)\n",
            "The variable z has shape  (2, 2)\n"
          ],
          "name": "stdout"
        }
      ]
    },
    {
      "cell_type": "markdown",
      "metadata": {
        "id": "VIlagng-l5CS",
        "colab_type": "text"
      },
      "source": [
        "We can also convert a numpy array or matrix into a python list with the method np.tolist().\n",
        "\n"
      ]
    },
    {
      "cell_type": "code",
      "metadata": {
        "id": "18SJMEQHl1k5",
        "colab_type": "code",
        "colab": {}
      },
      "source": [
        ""
      ],
      "execution_count": 0,
      "outputs": []
    },
    {
      "cell_type": "code",
      "metadata": {
        "id": "yws-oXAdc2RN",
        "colab_type": "code",
        "colab": {}
      },
      "source": [
        ""
      ],
      "execution_count": 0,
      "outputs": []
    }
  ]
}