{
  "nbformat": 4,
  "nbformat_minor": 0,
  "metadata": {
    "colab": {
      "name": "ApuntesIntro3Data",
      "provenance": [],
      "include_colab_link": true
    },
    "kernelspec": {
      "name": "python3",
      "display_name": "Python 3"
    }
  },
  "cells": [
    {
      "cell_type": "markdown",
      "metadata": {
        "id": "view-in-github",
        "colab_type": "text"
      },
      "source": [
        "<a href=\"https://colab.research.google.com/github/pedroagreda/TMD/blob/master/ApuntesIntro3Data.ipynb\" target=\"_parent\"><img src=\"https://colab.research.google.com/assets/colab-badge.svg\" alt=\"Open In Colab\"/></a>"
      ]
    },
    {
      "cell_type": "code",
      "metadata": {
        "id": "JPfiEL3leoQt",
        "colab_type": "code",
        "colab": {}
      },
      "source": [
        "# Let's import some libraries\n",
        "import numpy as np\n",
        "import matplotlib.pyplot as plt"
      ],
      "execution_count": 0,
      "outputs": []
    },
    {
      "cell_type": "markdown",
      "metadata": {
        "id": "M8KyMOPKfDZn",
        "colab_type": "text"
      },
      "source": [
        "# 1. Data generation\n",
        "In python, random samples can be easily generated with the numpy.random package. Inside it we can find many usefull tools to sample from the most important probability distributions.\n",
        "\n",
        "We have common number generator functions:\n",
        "\n",
        "**rand()**: uniformily generates random samples.\n",
        "**randn()**: returns samples from the “standard normal” distribution.\n",
        "Or more specific ones:\n",
        "\n",
        "**exponential([scale, size])**: draw samples from an exponential distribution with a given scale parameter.\n",
        "\n",
        "**normal([loc, scale, size])**: draw random samples from a normal (Gaussian) distribution with parameters: loc (mean) and scale (standard deviation).\n",
        "\n",
        "**uniform([low, high, size])**: draw samples from a uniform distribution in the range low-high."
      ]
    },
    {
      "cell_type": "code",
      "metadata": {
        "id": "Jh6JxWhB5fHL",
        "colab_type": "code",
        "colab": {}
      },
      "source": [
        "# Random samplig examples\n",
        "n = 1000 # number of samples\n",
        "\n",
        "# Sampling from a standard uniform distribution:\n",
        "x_unif = np.random.rand(n)\n",
        "\n",
        "fig1 = plt.figure()\n",
        "plt.hist(x_unif, bins=100)\n",
        "plt.title('Samples from a uniform distribution between 0 and 1')\n",
        "plt.show()\n",
        "\n",
        "# Sampling from a normal distribution:\n",
        "x_norm = np.random.randn(n)\n",
        "\n",
        "fig2 = plt.figure()\n",
        "plt.hist(x_norm, bins=100)\n",
        "plt.title('Samples from a normal distribution with 0 mean and unity variance')\n",
        "plt.show()\n",
        "\n",
        "# Adding Gaussian noise to a linear function:\n",
        "n = 30\n",
        "x = np.linspace(-5, 5, n)\n",
        "noise = np.random.randn(n)\n",
        "y = 3*x\n",
        "y_noise = y + noise\n",
        "\n",
        "fig3 = plt.figure()\n",
        "plt.plot(x, y, color='black', linestyle='--', label='Clean signal')\n",
        "plt.plot(x, y_noise, color='red', label='Noisy signal')\n",
        "plt.legend(loc=4, fontsize='large')\n",
        "plt.title('Visualization of a noisy data-set')\n",
        "plt.show()"
      ],
      "execution_count": 0,
      "outputs": []
    },
    {
      "cell_type": "code",
      "metadata": {
        "id": "2DC7Froo7wZD",
        "colab_type": "code",
        "colab": {}
      },
      "source": [
        "#Para hacer que en cada secuencia, deje de salir distintos numeros aleatorios ---> numpy.random.seed(int)\n",
        "print(\"If we don't fix the seed, the sequence will be different each time:\\n\")\n",
        "for i in range(3):\n",
        "  print('Iteration ', str(i))\n",
        "  print(np.random.rand(3), '\\n')\n",
        "\n",
        "print(\"\\nHowever, if we fix the seed, we will always obtain the same sequence:\\n\")\n",
        "for i in range(3):\n",
        "  print('Iteration ', str(i))\n",
        "  np.random.seed(0)\n",
        "  print(np.random.rand(3), '\\n')"
      ],
      "execution_count": 0,
      "outputs": []
    },
    {
      "cell_type": "code",
      "metadata": {
        "id": "yov2yMbi-W5P",
        "colab_type": "code",
        "colab": {}
      },
      "source": [
        "# 1. Generate 1000 samples from a UNIFORM distribution that spans from 2 to 5.\n",
        "# Print the sample mean and check that it approximates its expected value.\n",
        "# Hint: check out the random.uniform() function -----> ramdom.uniform(valor min, valor max, size)\n",
        "\n",
        "print('Excersise 1:\\n')\n",
        "#Solucion\n",
        "n=1000\n",
        "x_unif = np.random.uniform(2, 5, n)\n",
        "print('Sample mean = ', x_unif.mean())\n",
        "\n",
        "plt.hist(x_unif, bins=100)\n",
        "plt.xlabel('Value')\n",
        "plt.ylabel('Frequency')\n",
        "plt.title('Uniform distribution between 2 and 5')\n",
        "plt.show()"
      ],
      "execution_count": 0,
      "outputs": []
    },
    {
      "cell_type": "code",
      "metadata": {
        "id": "9C1D3Hvw-99R",
        "colab_type": "code",
        "colab": {}
      },
      "source": [
        "# 2. Generate 1000 samples from a GAUSSIAN distribution with mean 3 and variance 2.\n",
        "# Print the sample mean and variance and check that they approximate their \n",
        "# expected values.\n",
        "# Hint: check out the random.normal() function. Also, think about the changes you \n",
        "# need to apply to a standard normal distribution to modify its mean and variande \n",
        "# and try to obtain the same results using the random.randn() function.\n",
        "\n",
        "#np.random.normal(mean,var,n)\n",
        "#np.random.randn(n)*np.sqrt(var) + mean\n",
        "\n",
        "print('\\nExcersise 2:\\n')\n",
        "#Solucion\n",
        "n=1000\n",
        "x_gauss = np.random.normal(3,2,n)\n",
        "print('Sample mean = ', x_gauss.mean())\n",
        "print('Sample variance= ', x_gauss.var())\n",
        "\n",
        "plt.hist(x_gauss, bins=100)\n",
        "plt.xlabel('Value')\n",
        "plt.ylabel('Frequency')\n",
        "plt.title('Gaussian distribution with mean = 3 and variance = 2')\n",
        "plt.show()"
      ],
      "execution_count": 0,
      "outputs": []
    },
    {
      "cell_type": "code",
      "metadata": {
        "id": "YTn9VeOJC5DR",
        "colab_type": "code",
        "colab": {}
      },
      "source": [
        "# 3. Generate 100 samples of a SINE SIGNAL between -5 and 5 and add UNIFORM \n",
        "# NOISE with mean 0 and amplitude 1.\n",
        "\n",
        "print('\\nExcersise 3:\\n')\n",
        "#Solucion\n",
        "n=1000;\n",
        "x = np.linspace(-5,5,n)\n",
        "y = np.sin(x) #señal senoidal\n",
        "noise = np.random.uniform(-0.5,0.5,1000)\n",
        "y_noise = y + noise\n",
        "\n",
        "plt.plot(x, y_noise, color='green', label='Noisy signal')\n",
        "plt.plot(x, y, color='black', linestyle='--', label='Clean signal')\n",
        "plt.legend(loc=3, fontsize='large')\n",
        "plt.title('Sine signal with added uniform noise')\n",
        "plt.show()"
      ],
      "execution_count": 0,
      "outputs": []
    },
    {
      "cell_type": "code",
      "metadata": {
        "id": "3kzZeitkTqxt",
        "colab_type": "code",
        "colab": {}
      },
      "source": [
        "# [2, 3] and covariance matrix [[2, 0], [0, 2]].\n",
        "# Hint: check out the random.multivariate_normal() function.\n",
        "\n",
        "print('\\nExcersise 4:\\n')\n",
        "n = 1000\n",
        "mean = np.array([2, 3])\n",
        "cov = np.array([[2, 0], [0, 2]])\n",
        "x_2d_gauss = np.random.multivariate_normal(mean=mean, cov=cov, size=n)\n",
        "# n = <FILL IN>\n",
        "# mean = <FILL IN>\n",
        "# cov = <FILL IN>\n",
        "# x_2d_gauss = <FILL IN>\n",
        "plt.scatter(x_2d_gauss[:, 0], x_2d_gauss[:, 1], )\n",
        "plt.title('2d Gaussian Scatter Plot')\n",
        "plt.show()"
      ],
      "execution_count": 0,
      "outputs": []
    }
  ]
}