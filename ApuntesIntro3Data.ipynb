{
  "nbformat": 4,
  "nbformat_minor": 0,
  "metadata": {
    "colab": {
      "name": "ApuntesIntro3Data",
      "provenance": [],
      "include_colab_link": true
    },
    "kernelspec": {
      "name": "python3",
      "display_name": "Python 3"
    }
  },
  "cells": [
    {
      "cell_type": "markdown",
      "metadata": {
        "id": "view-in-github",
        "colab_type": "text"
      },
      "source": [
        "<a href=\"https://colab.research.google.com/github/pedroagreda/TMD/blob/master/ApuntesIntro3Data.ipynb\" target=\"_parent\"><img src=\"https://colab.research.google.com/assets/colab-badge.svg\" alt=\"Open In Colab\"/></a>"
      ]
    },
    {
      "cell_type": "code",
      "metadata": {
        "id": "JPfiEL3leoQt",
        "colab_type": "code",
        "colab": {}
      },
      "source": [
        "# Let's import some libraries\n",
        "import numpy as np\n",
        "import matplotlib.pyplot as plt"
      ],
      "execution_count": 0,
      "outputs": []
    },
    {
      "cell_type": "markdown",
      "metadata": {
        "id": "M8KyMOPKfDZn",
        "colab_type": "text"
      },
      "source": [
        "# 1. Data generation\n",
        "In python, random samples can be easily generated with the numpy.random package. Inside it we can find many usefull tools to sample from the most important probability distributions.\n",
        "\n",
        "We have common number generator functions:\n",
        "\n",
        "rand(): uniformily generates random samples.\n",
        "randn(): returns samples from the “standard normal” distribution.\n",
        "Or more specific ones:\n",
        "\n",
        "exponential([scale, size]): draw samples from an exponential distribution with a given scale parameter.\n",
        "normal([loc, scale, size]): draw random samples from a normal (Gaussian) distribution with parameters: loc (mean) and scale (standard deviation).\n",
        "uniform([low, high, size]): draw samples from a uniform distribution in the range low-high."
      ]
    }
  ]
}