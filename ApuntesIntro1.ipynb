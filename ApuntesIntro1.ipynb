{
  "nbformat": 4,
  "nbformat_minor": 0,
  "metadata": {
    "colab": {
      "name": "ApuntesIntro1.ipynb",
      "provenance": [],
      "collapsed_sections": [],
      "include_colab_link": true
    },
    "kernelspec": {
      "name": "python3",
      "display_name": "Python 3"
    }
  },
  "cells": [
    {
      "cell_type": "markdown",
      "metadata": {
        "id": "view-in-github",
        "colab_type": "text"
      },
      "source": [
        "<a href=\"https://colab.research.google.com/github/pedroagreda/TMD/blob/master/ApuntesIntro1.ipynb\" target=\"_parent\"><img src=\"https://colab.research.google.com/assets/colab-badge.svg\" alt=\"Open In Colab\"/></a>"
      ]
    },
    {
      "cell_type": "code",
      "metadata": {
        "id": "yytLG_SbUwoO",
        "colab_type": "code",
        "outputId": "7f214020-2e0d-44b1-9653-effb146f8dc5",
        "colab": {
          "base_uri": "https://localhost:8080/",
          "height": 108
        }
      },
      "source": [
        "#Introducción a Phyton\n",
        "#Basics\n",
        "person = 2;\n",
        "print(a)\n",
        "#Strings\n",
        "a1=\"Agreda\"\n",
        "a2=\"Jimenez\"\n",
        "#Tipo de parametro que es\n",
        "print(type(a2))\n",
        "print(type(3))\n",
        "print(type(3.))\n",
        "#Operaciones con Strings\n",
        "print(str1[0:5])\n",
        "str3= 'This is a question'\n",
        "str3=str3.replace('i', 'o')\n",
        "str3=str3.lower()\n",
        "print(str1.upper())\n",
        "print(str3[0:3])\n",
        "print(str1 + str2)\n",
        "print(str1[0:5])\n",
        "print(len(str1))\n",
        "#Listas (empiezan posición 0)\n",
        "list1 = ['student', 'teacher', 1997, 2000]\n",
        "print(list1)\n",
        "list2 = [1, 2, 3, 4, 5]\n",
        "print(list2)\n",
        "\n"
      ],
      "execution_count": 44,
      "outputs": [
        {
          "output_type": "stream",
          "text": [
            "23\n",
            "Agreda\n",
            "<class 'str'>\n",
            "<class 'int'>\n",
            "<class 'float'>\n"
          ],
          "name": "stdout"
        }
      ]
    },
    {
      "cell_type": "code",
      "metadata": {
        "id": "ThfVFRRdf9Zn",
        "colab_type": "code",
        "colab": {}
      },
      "source": [
        ""
      ],
      "execution_count": 0,
      "outputs": []
    }
  ]
}