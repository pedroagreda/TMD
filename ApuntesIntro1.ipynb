{
  "nbformat": 4,
  "nbformat_minor": 0,
  "metadata": {
    "colab": {
      "name": "ApuntesIntro1.ipynb",
      "provenance": [],
      "collapsed_sections": [],
      "include_colab_link": true
    },
    "kernelspec": {
      "name": "python3",
      "display_name": "Python 3"
    }
  },
  "cells": [
    {
      "cell_type": "markdown",
      "metadata": {
        "id": "view-in-github",
        "colab_type": "text"
      },
      "source": [
        "<a href=\"https://colab.research.google.com/github/pedroagreda/TMD/blob/master/ApuntesIntro1.ipynb\" target=\"_parent\"><img src=\"https://colab.research.google.com/assets/colab-badge.svg\" alt=\"Open In Colab\"/></a>"
      ]
    },
    {
      "cell_type": "code",
      "metadata": {
        "id": "yytLG_SbUwoO",
        "colab_type": "code",
        "colab": {}
      },
      "source": [
        "#Introducción a Phyton\n",
        "#Basics\n",
        "person = 2;\n",
        "print(person)\n",
        "#Strings\n",
        "a1=\"Agreda\"\n",
        "a2=\"Jimenez\"\n",
        "#Tipo de parametro que es\n",
        "print(type(a2))\n",
        "print(type(3))\n",
        "print(type(3.))\n",
        "#Operaciones con Strings\n",
        "print(str3[0:5])\n",
        "str3= 'This is a question'\n",
        "str3=str3.replace('i', 'o')\n",
        "str3=str3.lower()\n",
        "print(str3.upper())\n",
        "print(str3[0:3])\n",
        "print(str3[0:5])\n",
        "print(len(str3))\n",
        "\n"
      ],
      "execution_count": 0,
      "outputs": []
    },
    {
      "cell_type": "code",
      "metadata": {
        "id": "TSN1xJIv-XRd",
        "colab_type": "code",
        "colab": {}
      },
      "source": [
        ""
      ],
      "execution_count": 0,
      "outputs": []
    },
    {
      "cell_type": "code",
      "metadata": {
        "id": "5krPdB7e8jEG",
        "colab_type": "code",
        "colab": {}
      },
      "source": [
        "#Listas (empiezan posición 0)\n",
        "list1 = ['student', 'teacher', 1997, 2000]\n",
        "print(list1)\n",
        "list2 = [1, 2, 3, 4, 5]\n",
        "print(list2)\n",
        "##Añadir y quitar elementos de una lista\n",
        "list1.append(3)\n",
        "print(list1)\n",
        "list1.remove('teacher')\n",
        "print(list1)\n",
        "#Otras funciones\n",
        "lista2= [1,2,3,4,5]\n",
        "len(list2) #Gives the number of elements in a list.    \n",
        "max(list2) #Returns item from the list with max value.  \n",
        "min(list2) #Returns item from the list with min value.\n"
      ],
      "execution_count": 0,
      "outputs": []
    },
    {
      "cell_type": "markdown",
      "metadata": {
        "id": "iEf2YSWzLcrZ",
        "colab_type": "text"
      },
      "source": [
        "BUCLES CONDICIONALES\n"
      ]
    },
    {
      "cell_type": "code",
      "metadata": {
        "id": "7K9PPKhDLfQl",
        "colab_type": "code",
        "colab": {}
      },
      "source": [
        "#if, elif y else\n",
        "#La linea de condicion se ejecuta si concluye con ':', no hace falta escribir 'end' al final\n",
        "x = int(input('Please enter an integer: '))\n",
        "if x < 0:\n",
        "    x = 0\n",
        "    print('Negative changed to zero')\n",
        "elif x == 0:\n",
        "    print('Zero')\n",
        "elif x == 1:\n",
        "    print('Single')\n",
        "else:\n",
        "    print('More')\n"
      ],
      "execution_count": 0,
      "outputs": []
    },
    {
      "cell_type": "code",
      "metadata": {
        "id": "46MeYvM9Lnlt",
        "colab_type": "code",
        "colab": {}
      },
      "source": [
        "#For\n",
        "#Algunas utilidades, para una lista o string: \n",
        "#1. Mostrar y contar la longitud \n",
        "milista = ['Pedro', 'Agreda', 'Jimenez']\n",
        "for a in milista:\n",
        "  print(a, len(a))\n",
        "for (c,d) in enumerate(milista):\n",
        "  print ('elemento ' + str(c) + ' es ' + d) "
      ],
      "execution_count": 0,
      "outputs": []
    },
    {
      "cell_type": "code",
      "metadata": {
        "id": "dtJEzGw4Rvr2",
        "colab_type": "code",
        "colab": {}
      },
      "source": [
        "#One-liners de Phyton\n",
        "x = [1, 2, 3, 4, 5]\n",
        "y = [i**2 for i in x]\n",
        "print('x = ', x, '\\ny = ', y)"
      ],
      "execution_count": 0,
      "outputs": []
    },
    {
      "cell_type": "markdown",
      "metadata": {
        "id": "3V2xfMmTUsMX",
        "colab_type": "text"
      },
      "source": [
        "File Input and output\n"
      ]
    },
    {
      "cell_type": "code",
      "metadata": {
        "id": "w2xut1ljUqx4",
        "colab_type": "code",
        "colab": {}
      },
      "source": [
        "f = open('workfile', 'w') #first argument=filename, second argument define el modo en el que quieres manipularla\n",
        "f.close() #cuando ya has terminado\n"
      ],
      "execution_count": 0,
      "outputs": []
    },
    {
      "cell_type": "markdown",
      "metadata": {
        "id": "VFky6RSwXjcQ",
        "colab_type": "text"
      },
      "source": [
        "    'r' : only to be read,\n",
        "    'w' : for only writing (an existing file with the same name would be erased),\n",
        "    'a' : the file is opened for appending; any data written to the file is automatically appended to the end. \n",
        "    'r+': opens the file for both reading and writing. \n"
      ]
    },
    {
      "cell_type": "markdown",
      "metadata": {
        "id": "zEQ4NW3XXzRZ",
        "colab_type": "text"
      },
      "source": [
        "Importar modulos\n"
      ]
    },
    {
      "cell_type": "code",
      "metadata": {
        "id": "zUnsEx-dW_GY",
        "colab_type": "code",
        "colab": {}
      },
      "source": [
        "#Muchas formas de hacerlo, aqui una:\n",
        "#import lib_name as lib, siendo lib nombre que le des tú\n"
      ],
      "execution_count": 0,
      "outputs": []
    },
    {
      "cell_type": "code",
      "metadata": {
        "id": "B02rA7bIYBy6",
        "colab_type": "code",
        "colab": {
          "base_uri": "https://localhost:8080/",
          "height": 34
        },
        "outputId": "aa3775c0-7bba-4e58-965c-0938d65bd481"
      },
      "source": [
        "import time as t\n",
        "print(t.time())\n",
        "sleep(2) #espera 2 segundos\n",
        "print(t.time())"
      ],
      "execution_count": 24,
      "outputs": [
        {
          "output_type": "stream",
          "text": [
            "1573491066.785937\n"
          ],
          "name": "stdout"
        }
      ]
    },
    {
      "cell_type": "markdown",
      "metadata": {
        "id": "dkE5A2ioYYSu",
        "colab_type": "text"
      },
      "source": [
        "User defined questions"
      ]
    },
    {
      "cell_type": "code",
      "metadata": {
        "id": "BKMrUzoKYESd",
        "colab_type": "code",
        "colab": {}
      },
      "source": [
        "#Para definir un bloque de funcion def name()\n",
        "def add_five(a):\n",
        "  \"\"\"This function adds the number five to its input argument.\"\"\"\n",
        "  return a + 5\n",
        "  \n"
      ],
      "execution_count": 0,
      "outputs": []
    },
    {
      "cell_type": "code",
      "metadata": {
        "id": "mfoUIrZdmPEL",
        "colab_type": "code",
        "colab": {}
      },
      "source": [
        " #Ejemplo de funcion\n",
        "  x = int(input('Please enter an integer: ')) #entrada de datos\n",
        "  print('Our add_five function is super effective at adding fives:')\n",
        "  print(x, '+ 5 =', add_five(x))\n",
        "\n",
        "\n"
      ],
      "execution_count": 0,
      "outputs": []
    },
    {
      "cell_type": "code",
      "metadata": {
        "id": "vDf8rC5DmztJ",
        "colab_type": "code",
        "colab": {
          "base_uri": "https://localhost:8080/",
          "height": 68
        },
        "outputId": "bc71fc44-fefd-4ff2-b709-76fcd8da1baf"
      },
      "source": [
        "#Ejercicio del factorial\n",
        "def mi_factorial(n):\n",
        "   if n>1:\n",
        "     return n*mi_factorial(n-1)\n",
        "   else:\n",
        "      return 1\n",
        "# Let's try it out!\n",
        "from math import factorial\n",
        "x = int(input('Please enter an integer: '))\n",
        "if mi_factorial(x) == factorial(x):\n",
        "  print(x, '! = ', mi_factorial(x))\n",
        "  print('It works!')\n",
        "else:\n",
        "  print(\"Something's not working...\" )      \n",
        "\n"
      ],
      "execution_count": 34,
      "outputs": [
        {
          "output_type": "stream",
          "text": [
            "Please enter an integer: 2\n",
            "2 ! =  2\n",
            "It works!\n"
          ],
          "name": "stdout"
        }
      ]
    },
    {
      "cell_type": "code",
      "metadata": {
        "id": "seZl02F8piBz",
        "colab_type": "code",
        "colab": {}
      },
      "source": [
        ""
      ],
      "execution_count": 0,
      "outputs": []
    }
  ]
}