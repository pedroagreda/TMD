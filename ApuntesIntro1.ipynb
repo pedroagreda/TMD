{
  "nbformat": 4,
  "nbformat_minor": 0,
  "metadata": {
    "colab": {
      "name": "ApuntesIntro1.ipynb",
      "provenance": [],
      "collapsed_sections": [],
      "include_colab_link": true
    },
    "kernelspec": {
      "name": "python3",
      "display_name": "Python 3"
    }
  },
  "cells": [
    {
      "cell_type": "markdown",
      "metadata": {
        "id": "view-in-github",
        "colab_type": "text"
      },
      "source": [
        "<a href=\"https://colab.research.google.com/github/pedroagreda/TMD/blob/master/ApuntesIntro1.ipynb\" target=\"_parent\"><img src=\"https://colab.research.google.com/assets/colab-badge.svg\" alt=\"Open In Colab\"/></a>"
      ]
    },
    {
      "cell_type": "code",
      "metadata": {
        "id": "yytLG_SbUwoO",
        "colab_type": "code",
        "colab": {}
      },
      "source": [
        "#Introducción a Phyton\n",
        "#Basics\n",
        "person = 2;\n",
        "print(person)\n",
        "#Strings\n",
        "a1=\"Agreda\"\n",
        "a2=\"Jimenez\"\n",
        "#Tipo de parametro que es\n",
        "print(type(a2))\n",
        "print(type(3))\n",
        "print(type(3.))\n",
        "#Operaciones con Strings\n",
        "print(str3[0:5])\n",
        "str3= 'This is a question'\n",
        "str3=str3.replace('i', 'o')\n",
        "str3=str3.lower()\n",
        "print(str3.upper())\n",
        "print(str3[0:3])\n",
        "print(str3[0:5])\n",
        "print(len(str3))\n",
        "\n"
      ],
      "execution_count": 0,
      "outputs": []
    },
    {
      "cell_type": "code",
      "metadata": {
        "id": "TSN1xJIv-XRd",
        "colab_type": "code",
        "colab": {}
      },
      "source": [
        ""
      ],
      "execution_count": 0,
      "outputs": []
    },
    {
      "cell_type": "code",
      "metadata": {
        "id": "5krPdB7e8jEG",
        "colab_type": "code",
        "colab": {}
      },
      "source": [
        "#Listas (empiezan posición 0)\n",
        "list1 = ['student', 'teacher', 1997, 2000]\n",
        "print(list1)\n",
        "list2 = [1, 2, 3, 4, 5]\n",
        "print(list2)\n",
        "##Añadir y quitar elementos de una lista\n",
        "list1.append(3)\n",
        "print(list1)\n",
        "list1.remove('teacher')\n",
        "print(list1)\n",
        "#Otras funciones\n",
        "lista2= [1,2,3,4,5]\n",
        "len(list2) #Gives the number of elements in a list.    \n",
        "max(list2) #Returns item from the list with max value.  \n",
        "min(list2) #Returns item from the list with min value.\n"
      ],
      "execution_count": 0,
      "outputs": []
    },
    {
      "cell_type": "markdown",
      "metadata": {
        "id": "iEf2YSWzLcrZ",
        "colab_type": "text"
      },
      "source": [
        "BUCLES CONDICIONALES\n"
      ]
    },
    {
      "cell_type": "code",
      "metadata": {
        "id": "7K9PPKhDLfQl",
        "colab_type": "code",
        "colab": {}
      },
      "source": [
        "#if, elif y else\n",
        "#La linea de condicion se ejecuta si concluye con ':', no hace falta escribir 'end' al final\n",
        "x = int(input('Please enter an integer: '))\n",
        "if x < 0:\n",
        "    x = 0\n",
        "    print('Negative changed to zero')\n",
        "elif x == 0:\n",
        "    print('Zero')\n",
        "elif x == 1:\n",
        "    print('Single')\n",
        "else:\n",
        "    print('More')\n"
      ],
      "execution_count": 0,
      "outputs": []
    },
    {
      "cell_type": "code",
      "metadata": {
        "id": "46MeYvM9Lnlt",
        "colab_type": "code",
        "colab": {}
      },
      "source": [
        "#For\n",
        "#Algunas utilidades, para una lista o string: \n",
        "#1. Mostrar y contar la longitud \n",
        "milista = ['Pedro','Agreda','Jimenez']"
      ],
      "execution_count": 0,
      "outputs": []
    }
  ]
}