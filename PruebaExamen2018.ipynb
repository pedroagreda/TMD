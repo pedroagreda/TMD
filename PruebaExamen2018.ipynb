{
  "nbformat": 4,
  "nbformat_minor": 0,
  "metadata": {
    "colab": {
      "name": "PruebaExamen.ipynb",
      "provenance": [],
      "collapsed_sections": [],
      "toc_visible": true,
      "include_colab_link": true
    },
    "kernelspec": {
      "name": "python2",
      "display_name": "Python 2"
    }
  },
  "cells": [
    {
      "cell_type": "markdown",
      "metadata": {
        "id": "view-in-github",
        "colab_type": "text"
      },
      "source": [
        "<a href=\"https://colab.research.google.com/github/pedroagreda/TMD/blob/master/PruebaExamen2018.ipynb\" target=\"_parent\"><img src=\"https://colab.research.google.com/assets/colab-badge.svg\" alt=\"Open In Colab\"/></a>"
      ]
    },
    {
      "cell_type": "code",
      "metadata": {
        "id": "zxV7MW1pjzI-",
        "colab_type": "code",
        "colab": {}
      },
      "source": [
        "import numpy as np\n",
        "data = np.load('data.npz')\n",
        "x = data['xD']\n",
        "h = data['hD']\n",
        "xR = data['xR']\n",
        "\n",
        "\n",
        "import matplotlib.pyplot as plt\n",
        "from IPython.display import display, Math, Latex, HTML\n",
        "\n",
        "\n",
        "\n"
      ],
      "execution_count": 0,
      "outputs": []
    },
    {
      "cell_type": "markdown",
      "metadata": {
        "id": "Vaieyg7lj5sD",
        "colab_type": "text"
      },
      "source": [
        "# **2.DECISIÓN**"
      ]
    },
    {
      "cell_type": "code",
      "metadata": {
        "id": "l_Iut0JcnHaX",
        "colab_type": "code",
        "outputId": "d521991f-dd7b-41e5-846a-95ed4c1aae95",
        "colab": {
          "base_uri": "https://localhost:8080/",
          "height": 68
        }
      },
      "source": [
        "\n",
        "x_0= x[h==0]\n",
        "x_1= x[h==1]\n",
        "\n",
        "m0C=np.sum(x[h==0])/len(x_0)\n",
        "m1C=np.sum(x[h==1])/len(x_1) \n",
        "\n",
        "v0C= np.var(x[h==0])\n",
        "v1C= np.var(x[h==1])\n",
        "\n",
        "print(m0C)\n",
        "print(m1C)\n",
        "           \n",
        "def LRT(X,eta):\n",
        "   D=(x>eta).astype(int)\n",
        "   return D\n",
        "    \n",
        "  \n",
        "a= (1/np.sqrt(2*np.pi*v0C))*(np.e**(-((x-m0C)**2)/2*v0C))\n",
        "b = (1/np.sqrt(2*np.pi*v1C))*(np.e**(-((x-m1C)**2)/2*v1C))\n",
        "p = b/a\n",
        "\n",
        "#valor teorico\n",
        "eta = 6.171\n",
        "\n",
        "\n",
        "DML = LRT(p,eta)\n",
        "\n",
        "print(str(DML))"
      ],
      "execution_count": 0,
      "outputs": [
        {
          "output_type": "stream",
          "text": [
            "5.902906200221763\n",
            "6.660133506677554\n",
            "[1 0 0 ... 1 0 0]\n"
          ],
          "name": "stdout"
        }
      ]
    },
    {
      "cell_type": "code",
      "metadata": {
        "id": "Hz-3OQjRdZ0j",
        "colab_type": "code",
        "colab": {}
      },
      "source": [
        "\n"
      ],
      "execution_count": 0,
      "outputs": []
    },
    {
      "cell_type": "markdown",
      "metadata": {
        "id": "prcf7UEU7wLY",
        "colab_type": "text"
      },
      "source": [
        "# 3.ESTIMACIÓN\n"
      ]
    },
    {
      "cell_type": "code",
      "metadata": {
        "id": "uc9Y251X7znn",
        "colab_type": "code",
        "outputId": "1724a699-5e8c-432b-8346-9560f53955ab",
        "colab": {
          "base_uri": "https://localhost:8080/",
          "height": 34
        }
      },
      "source": [
        "\n",
        "\n",
        "\n",
        "z = np.sum(xR)\n",
        "K = len(xR)\n",
        "sMSE = (K+1)/(z+1)\n",
        "\n",
        "print(sMSE)\n"
      ],
      "execution_count": 0,
      "outputs": [
        {
          "output_type": "stream",
          "text": [
            "0.21384381851312884\n"
          ],
          "name": "stdout"
        }
      ]
    },
    {
      "cell_type": "code",
      "metadata": {
        "id": "n-10Q5bVAuoc",
        "colab_type": "code",
        "outputId": "3ac837c9-9f0e-4dc4-b354-0982653ae645",
        "colab": {
          "base_uri": "https://localhost:8080/",
          "height": 34
        }
      },
      "source": [
        "\n",
        "MSEsx = (K+1)/(z+1)**2\n",
        "\n",
        "print(MSEsx)\n"
      ],
      "execution_count": 0,
      "outputs": [
        {
          "output_type": "stream",
          "text": [
            "0.0003908476813356922\n"
          ],
          "name": "stdout"
        }
      ]
    },
    {
      "cell_type": "code",
      "metadata": {
        "id": "sy84wbtvEsxP",
        "colab_type": "code",
        "outputId": "7eff3504-ca5b-4f14-ed59-1109796860ee",
        "colab": {
          "base_uri": "https://localhost:8080/",
          "height": 68
        }
      },
      "source": [
        "k=np.arange(K)\n",
        "s = 0.5 + k/K\n",
        "Lxsk=1\n",
        "\n",
        "for(i,Ti) in enumerate(xR):\n",
        "  Lxsk= Lxsk * (np.log(s[i])- s[i]*Ti)\n",
        "\n",
        "print(x[1])\n",
        "print(K)\n",
        "print(Lxsk)"
      ],
      "execution_count": 0,
      "outputs": [
        {
          "output_type": "stream",
          "text": [
            "6.015929885617912\n",
            "116\n",
            "9.460071688967192e+41\n"
          ],
          "name": "stdout"
        }
      ]
    },
    {
      "cell_type": "code",
      "metadata": {
        "id": "_bKyu50UXrxG",
        "colab_type": "code",
        "colab": {}
      },
      "source": [
        "np.savez('results.npz',m0C=m0C,m1C=m1C,v0C=v0C,v1C=v1C,DML=DML,sMSE=sMSE,MSEsx=MSEsx"
      ],
      "execution_count": 0,
      "outputs": []
    }
  ]
}